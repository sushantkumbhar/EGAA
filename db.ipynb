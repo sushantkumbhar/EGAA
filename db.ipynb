{
 "cells": [
  {
   "cell_type": "code",
   "execution_count": 1,
   "metadata": {},
   "outputs": [],
   "source": [
    "import sqlite3"
   ]
  },
  {
   "cell_type": "code",
   "execution_count": 4,
   "metadata": {},
   "outputs": [
    {
     "name": "stdout",
     "output_type": "stream",
     "text": [
      "50 random users added successfully.\n"
     ]
    }
   ],
   "source": [
    "import sqlite3\n",
    "import random\n",
    "import string\n",
    "from datetime import datetime, timedelta\n",
    "\n",
    "# Connect to the SQLite database\n",
    "conn = sqlite3.connect('transactions.db')\n",
    "cursor = conn.cursor()\n",
    "\n",
    "# Step 1: Create the 'users' table\n",
    "cursor.execute('''\n",
    "    CREATE TABLE IF NOT EXISTS users (\n",
    "        user_id INTEGER PRIMARY KEY AUTOINCREMENT,\n",
    "        name TEXT NOT NULL\n",
    "    )\n",
    "''')\n",
    "\n",
    "# Generate a random name (composed of random letters)\n",
    "def random_name(length=7):\n",
    "    return ''.join(random.choices(string.ascii_letters, k=length))\n",
    "\n",
    "# Insert 50 random users into the 'users' table\n",
    "NUM_USERS = 50\n",
    "\n",
    "for _ in range(NUM_USERS):\n",
    "    name = random_name()\n",
    "    cursor.execute('''\n",
    "        INSERT INTO users (name)\n",
    "        VALUES (?)\n",
    "    ''', (name,))\n",
    "\n",
    "print(f\"{NUM_USERS} random users added successfully.\")\n",
    "\n",
    "# Step 2: Create the 'transaction' table\n",
    "cursor.execute('''\n",
    "    CREATE TABLE IF NOT EXISTS transactions (\n",
    "        transaction_id INTEGER PRIMARY KEY AUTOINCREMENT,\n",
    "        user_id INTEGER NOT NULL,\n",
    "        transaction_date TEXT NOT NULL,\n",
    "        amount REAL NOT NULL,\n",
    "        transaction_type TEXT NOT NULL CHECK(transaction_type IN ('credit', 'debit')),\n",
    "        description TEXT,\n",
    "        status TEXT CHECK(status IN ('pending', 'completed', 'failed')) DEFAULT 'pending',\n",
    "        reference_id TEXT UNIQUE,\n",
    "        FOREIGN KEY(user_id) REFERENCES users(user_id)\n",
    "    )\n",
    "''')\n",
    "\n",
    "# Commit the changes and close the connection\n",
    "conn.commit()\n",
    "conn.close()"
   ]
  },
  {
   "cell_type": "code",
   "execution_count": 5,
   "metadata": {},
   "outputs": [
    {
     "name": "stdout",
     "output_type": "stream",
     "text": [
      "1000 random transactions added successfully.\n"
     ]
    }
   ],
   "source": [
    "import sqlite3\n",
    "import random\n",
    "from datetime import datetime, timedelta\n",
    "\n",
    "# Connect to the SQLite database\n",
    "conn = sqlite3.connect('transactions.db')\n",
    "cursor = conn.cursor()\n",
    "\n",
    "# Step 1: Ensure Unique Reference IDs\n",
    "used_reference_ids = set()\n",
    "\n",
    "# Function to generate a unique reference ID\n",
    "def generate_unique_reference_id():\n",
    "    while True:\n",
    "        reference_id = f'REF-{random.randint(100000, 999999)}'\n",
    "        if reference_id not in used_reference_ids:\n",
    "            used_reference_ids.add(reference_id)\n",
    "            return reference_id\n",
    "\n",
    "# Step 2: Insert 1000 random transactions into the 'transactions' table\n",
    "NUM_TRANSACTIONS = 1000\n",
    "NUM_USERS = 50\n",
    "HIGH_SPENDING_PERCENTAGE = 0.25\n",
    "MEAN_AMOUNT = 50  # Assume a mean amount of $50 for normal transactions\n",
    "HIGH_AMOUNT_MULTIPLIER = 2  # 2x higher for unusual transactions\n",
    "TRANSACTION_TYPES = ['credit', 'debit']\n",
    "STATUS_OPTIONS = ['pending', 'completed', 'failed']\n",
    "\n",
    "# Function to generate a random date within the past year\n",
    "def random_date_within_last_year():\n",
    "    today = datetime.today()\n",
    "    random_days_ago = random.randint(0, 365)\n",
    "    return today - timedelta(days=random_days_ago)\n",
    "\n",
    "# Insert random transactions into the 'transactions' table\n",
    "for _ in range(NUM_TRANSACTIONS):\n",
    "    user_id = random.randint(1, NUM_USERS)  # Use the user_id from the users table\n",
    "    transaction_date = random_date_within_last_year().strftime('%Y-%m-%d')\n",
    "    transaction_type = random.choice(TRANSACTION_TYPES)\n",
    "    description = f'Transaction for user {user_id}'\n",
    "    status = random.choice(STATUS_OPTIONS)\n",
    "\n",
    "    # 25% of transactions should be 2x higher than the mean\n",
    "    if random.random() < HIGH_SPENDING_PERCENTAGE:\n",
    "        amount = round(random.uniform(MEAN_AMOUNT * 2, MEAN_AMOUNT * 4), 2)\n",
    "    else:\n",
    "        amount = round(random.uniform(MEAN_AMOUNT * 0.5, MEAN_AMOUNT * 1.5), 2)\n",
    "\n",
    "    # Generate a unique reference ID\n",
    "    reference_id = generate_unique_reference_id()\n",
    "\n",
    "    # Insert transaction into the table\n",
    "    cursor.execute('''\n",
    "        INSERT INTO transactions (user_id, transaction_date, amount, transaction_type, description, status, reference_id)\n",
    "        VALUES (?, ?, ?, ?, ?, ?, ?)\n",
    "    ''', (user_id, transaction_date, amount, transaction_type, description, status, reference_id))\n",
    "\n",
    "# Commit the changes and close the connection\n",
    "conn.commit()\n",
    "conn.close()\n",
    "\n",
    "print(f\"{NUM_TRANSACTIONS} random transactions added successfully.\")\n"
   ]
  },
  {
   "cell_type": "code",
   "execution_count": 35,
   "metadata": {},
   "outputs": [],
   "source": [
    "import os\n",
    "from langchain_groq import ChatGroq\n",
    "\n",
    "groq_api_key=\"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\"\n",
    "\n",
    "# st.title(\"Objectbox VectorstoreDB With Llama3 Demo\")\n",
    "\n",
    "llm=ChatGroq(groq_api_key=groq_api_key,\n",
    "             model_name=\"Llama3-8b-8192\")"
   ]
  },
  {
   "cell_type": "code",
   "execution_count": 36,
   "metadata": {},
   "outputs": [],
   "source": [
    "from langchain_community.utilities import SQLDatabase\n",
    "db = SQLDatabase.from_uri(\"sqlite:///transactions.db\", sample_rows_in_table_info = 3)"
   ]
  },
  {
   "cell_type": "code",
   "execution_count": 37,
   "metadata": {},
   "outputs": [
    {
     "name": "stdout",
     "output_type": "stream",
     "text": [
      "\n",
      "CREATE TABLE transactions (\n",
      "\ttransaction_id INTEGER, \n",
      "\tuser_id INTEGER NOT NULL, \n",
      "\ttransaction_date TEXT NOT NULL, \n",
      "\tamount REAL NOT NULL, \n",
      "\ttransaction_type TEXT NOT NULL, \n",
      "\tdescription TEXT, \n",
      "\tstatus TEXT DEFAULT 'pending', \n",
      "\treference_id TEXT, \n",
      "\tPRIMARY KEY (transaction_id), \n",
      "\tFOREIGN KEY(user_id) REFERENCES users (user_id), \n",
      "\tUNIQUE (reference_id)\n",
      ")\n",
      "\n",
      "/*\n",
      "3 rows from transactions table:\n",
      "transaction_id\tuser_id\ttransaction_date\tamount\ttransaction_type\tdescription\tstatus\treference_id\n",
      "1\t11\t2023-12-02\t25.18\tdebit\tTransaction for user 11\tcompleted\tREF-572089\n",
      "2\t3\t2023-12-22\t122.95\tcredit\tTransaction for user 3\tpending\tREF-876975\n",
      "3\t31\t2024-05-08\t55.65\tdebit\tTransaction for user 31\tcompleted\tREF-336198\n",
      "*/\n",
      "\n",
      "\n",
      "CREATE TABLE users (\n",
      "\tuser_id INTEGER, \n",
      "\tname TEXT NOT NULL, \n",
      "\tPRIMARY KEY (user_id)\n",
      ")\n",
      "\n",
      "/*\n",
      "3 rows from users table:\n",
      "user_id\tname\n",
      "1\tFjnlmUb\n",
      "2\tnwzFlxT\n",
      "3\tvhdqIGz\n",
      "*/\n"
     ]
    }
   ],
   "source": [
    "print(db.table_info)\n"
   ]
  },
  {
   "cell_type": "code",
   "execution_count": 38,
   "metadata": {},
   "outputs": [],
   "source": [
    "system_prefix = \"\"\"You are an agent designed to interact with a SQL database.\n",
    "Given an input question, create a syntactically correct sqlite query to run, then look at the results of the query and return the answer.\n",
    "Unless the user specifies a specific number of examples they wish to obtain, always limit your query to at most 5 results.\n",
    "You can order the results by a relevant column to return the most interesting examples in the database.\n",
    "Never query for all the columns from a specific table, only ask for the relevant columns given the question.\n",
    "\n",
    "You have access to the following tools for interacting with the database:\n",
    "\n",
    "{tools}\n",
    "\n",
    "Use the following format:\n",
    "\n",
    "Question: the input question you must answer\n",
    "Thought: you should always think about what to do\n",
    "Action: the action to take, should be one of {tool_names}\n",
    "Action Input: the input to the action\n",
    "Observation: the result of the action\n",
    "... (this Thought/Action/Action Input/Observation can repeat N times)\n",
    "Thought: I now know the final answer\n",
    "Final Answer: the final answer to the original input question\n",
    "\n",
    "You MUST double check your query before executing it. If you get an error while executing a query, rewrite the query and try again.\n",
    "\n",
    "DO NOT make any DML statements (INSERT, UPDATE, DELETE, DROP etc.) to the database.\n",
    "\n",
    "If the question does not seem related to the database, just return \"I don't know\" as the answer.\n",
    "If you see you are repeating yourself, just provide final answer and exit.\n",
    "\n",
    "Here are some examples of user inputs and their corresponding SQL queries:\"\"\""
   ]
  },
  {
   "cell_type": "code",
   "execution_count": 39,
   "metadata": {},
   "outputs": [],
   "source": [
    "# from langchain_core.prompts import FewShotPromptTemplate, PromptTemplate\n",
    "\n",
    "# dynamic_few_shot_prompt = FewShotPromptTemplate(\n",
    "#     example_selector = example_selector,\n",
    "#     example_prompt=PromptTemplate.from_template(\n",
    "#         \"User input: {input}\\nSQL query: {query}\"\n",
    "#     ),\n",
    "#     input_variables=[\"input\"],\n",
    "#     prefix=system_prefix,\n",
    "#     suffix=\"\"\n",
    "# )"
   ]
  },
  {
   "cell_type": "code",
   "execution_count": 40,
   "metadata": {},
   "outputs": [],
   "source": [
    "from langchain_core.prompts import ChatPromptTemplate, SystemMessagePromptTemplate\n",
    "\n",
    "full_prompt = ChatPromptTemplate.from_messages(\n",
    "    [\n",
    "        SystemMessagePromptTemplate.from_template(system_prefix),\n",
    "        (\"human\", \"{input}\"),\n",
    "        (\"system\", \"{agent_scratchpad}\"),\n",
    "    ]\n",
    ")"
   ]
  },
  {
   "cell_type": "code",
   "execution_count": 41,
   "metadata": {},
   "outputs": [
    {
     "name": "stdout",
     "output_type": "stream",
     "text": [
      "\n",
      "    Execute a SQL query against the database and get back the result..\n",
      "    If the query is not correct, an error message will be returned.\n",
      "    If an error is returned, rewrite the query, check the query, and try again.\n",
      "    \n",
      "System: You are an agent designed to interact with a SQL database.\n",
      "Given an input question, create a syntactically correct sqlite query to run, then look at the results of the query and return the answer.\n",
      "Unless the user specifies a specific number of examples they wish to obtain, always limit your query to at most 5 results.\n",
      "You can order the results by a relevant column to return the most interesting examples in the database.\n",
      "Never query for all the columns from a specific table, only ask for the relevant columns given the question.\n",
      "\n",
      "You have access to the following tools for interacting with the database:\n",
      "\n",
      "['sql_db_query - Execute a SQL query against the database and get back the result..\\n    If the query is not correct, an error message will be returned.\\n    If an error is returned, rewrite the query, check the query, and try again.', 'sql_db_schema - Get the schema and sample rows for the specified SQL tables.', 'sql_db_list_tables - Input is an empty string, output is a comma-separated list of tables in the database.', 'sql_db_query_checker - Use this tool to double check if your query is correct before executing it.\\n    Always use this tool before executing a query with sql_db_query!']\n",
      "\n",
      "Use the following format:\n",
      "\n",
      "Question: the input question you must answer\n",
      "Thought: you should always think about what to do\n",
      "Action: the action to take, should be one of ['sql_db_query', 'sql_db_schema', 'sql_db_list_tables', 'sql_db_query_checker']\n",
      "Action Input: the input to the action\n",
      "Observation: the result of the action\n",
      "... (this Thought/Action/Action Input/Observation can repeat N times)\n",
      "Thought: I now know the final answer\n",
      "Final Answer: the final answer to the original input question\n",
      "\n",
      "You MUST double check your query before executing it. If you get an error while executing a query, rewrite the query and try again.\n",
      "\n",
      "DO NOT make any DML statements (INSERT, UPDATE, DELETE, DROP etc.) to the database.\n",
      "\n",
      "If the question does not seem related to the database, just return \"I don't know\" as the answer.\n",
      "If you see you are repeating yourself, just provide final answer and exit.\n",
      "\n",
      "Here are some examples of user inputs and their corresponding SQL queries:\n",
      "Human: How many transactions happened in last three months?\n",
      "System: []\n"
     ]
    }
   ],
   "source": [
    "from langchain_community.tools.sql_database.tool import QuerySQLDataBaseTool, InfoSQLDatabaseTool, ListSQLDatabaseTool, QuerySQLCheckerTool\n",
    "\n",
    "tools = [QuerySQLDataBaseTool(db = db), InfoSQLDatabaseTool(db = db), ListSQLDatabaseTool(db = db), QuerySQLCheckerTool(db = db, llm = llm)]\n",
    "print(QuerySQLDataBaseTool(db = db).description)\n",
    "input_element = {\n",
    "        \"input\": \"How many transactions happened in last three months?\",\n",
    "        \"tool_names\" : [tool.name for tool in tools],\n",
    "        \"tools\" : [tool.name + \" - \" + tool.description.strip() for tool in tools],\n",
    "        \"agent_scratchpad\": [],\n",
    "        \"system_prefix\": system_prefix\n",
    "    }\n",
    "prompt_val = full_prompt.invoke(\n",
    "    input_element\n",
    ")\n",
    "\n",
    "print(prompt_val.to_string())"
   ]
  },
  {
   "cell_type": "code",
   "execution_count": 42,
   "metadata": {},
   "outputs": [],
   "source": [
    "from langchain.agents import AgentExecutor, create_react_agent\n",
    "agent = create_react_agent(llm, tools, full_prompt)\n",
    "\n",
    "agent_executor = AgentExecutor(agent=agent, tools=tools, handle_parsing_errors=True)"
   ]
  },
  {
   "cell_type": "code",
   "execution_count": 43,
   "metadata": {},
   "outputs": [],
   "source": [
    "last_k_messages = 4\n",
    "\n",
    "\n",
    "from langchain_community.chat_message_histories import SQLChatMessageHistory\n",
    "\n",
    "def get_session_history(session_id):\n",
    "    chat_message_history = SQLChatMessageHistory(\n",
    "    session_id=session_id, connection = \"sqlite:///memory.db\", table_name = \"local_table\"\n",
    "    )\n",
    "\n",
    "    messages = chat_message_history.get_messages()\n",
    "    chat_message_history.clear()\n",
    "    \n",
    "    for message in messages[-last_k_messages:]:\n",
    "        chat_message_history.add_message(message)\n",
    "    \n",
    "    print(\"chat_message_history \", chat_message_history)\n",
    "    return chat_message_history\n",
    "\n",
    "\n",
    "from langchain_core.runnables.history import RunnableWithMessageHistory\n",
    "\n",
    "agent_with_chat_history = RunnableWithMessageHistory(\n",
    "    agent_executor,\n",
    "    get_session_history,\n",
    "    input_messages_key=\"input\",\n",
    "    history_messages_key=\"chat_history\",\n",
    ")"
   ]
  },
  {
   "cell_type": "code",
   "execution_count": 44,
   "metadata": {},
   "outputs": [
    {
     "name": "stdout",
     "output_type": "stream",
     "text": [
      "Running on local URL:  http://127.0.0.1:7861\n",
      "\n",
      "To create a public link, set `share=True` in `launch()`.\n"
     ]
    },
    {
     "data": {
      "text/html": [
       "<div><iframe src=\"http://127.0.0.1:7861/\" width=\"100%\" height=\"500\" allow=\"autoplay; camera; microphone; clipboard-read; clipboard-write;\" frameborder=\"0\" allowfullscreen></iframe></div>"
      ],
      "text/plain": [
       "<IPython.core.display.HTML object>"
      ]
     },
     "metadata": {},
     "output_type": "display_data"
    },
    {
     "data": {
      "text/plain": []
     },
     "execution_count": 44,
     "metadata": {},
     "output_type": "execute_result"
    }
   ],
   "source": [
    "import gradio as gr\n",
    "import uuid\n",
    "\n",
    "\n",
    "with gr.Blocks() as demo:\n",
    "    \n",
    "    state = gr.State(\"\")\n",
    "    chatbot = gr.Chatbot()\n",
    "    msg = gr.Textbox()\n",
    "    clear = gr.ClearButton([msg, chatbot])\n",
    "\n",
    "\n",
    "    def respond(message, chatbot_history, session_id):\n",
    "        if not chatbot_history:\n",
    "            session_id = uuid.uuid4().hex\n",
    "\n",
    "        print(\"Session ID: \", session_id)\n",
    "\n",
    "        response = agent_with_chat_history.invoke(\n",
    "                                        {\"input\": message},\n",
    "                                        {\"configurable\": {\"session_id\": session_id}},\n",
    "                                        )\n",
    "\n",
    "        chatbot_history.append((message, response['output']))\n",
    "        return \"\", chatbot_history, session_id\n",
    "\n",
    "    msg.submit(respond, [msg, chatbot, state], [msg, chatbot, state])\n",
    "\n",
    "demo.launch()"
   ]
  },
  {
   "cell_type": "code",
   "execution_count": 46,
   "metadata": {},
   "outputs": [
    {
     "data": {
      "text/plain": [
       "{'input': 'Give me a count of all the transactions',\n",
       " 'output': 'Agent stopped due to iteration limit or time limit.'}"
      ]
     },
     "execution_count": 46,
     "metadata": {},
     "output_type": "execute_result"
    }
   ],
   "source": [
    "agent_executor.invoke({\n",
    "    'input': \"Give me a count of all the transactions\"\n",
    "})"
   ]
  },
  {
   "cell_type": "code",
   "execution_count": null,
   "metadata": {},
   "outputs": [],
   "source": []
  }
 ],
 "metadata": {
  "kernelspec": {
   "display_name": "venv",
   "language": "python",
   "name": "python3"
  },
  "language_info": {
   "codemirror_mode": {
    "name": "ipython",
    "version": 3
   },
   "file_extension": ".py",
   "mimetype": "text/x-python",
   "name": "python",
   "nbconvert_exporter": "python",
   "pygments_lexer": "ipython3",
   "version": "3.11.0"
  }
 },
 "nbformat": 4,
 "nbformat_minor": 2
}
